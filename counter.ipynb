{
  "nbformat": 4,
  "nbformat_minor": 0,
  "metadata": {
    "colab": {
      "name": "Untitled5.ipynb",
      "provenance": [],
      "authorship_tag": "ABX9TyP2dZm5+SIxIWsYLGLylTIw",
      "include_colab_link": true
    },
    "kernelspec": {
      "name": "python3",
      "display_name": "Python 3"
    }
  },
  "cells": [
    {
      "cell_type": "markdown",
      "metadata": {
        "id": "view-in-github",
        "colab_type": "text"
      },
      "source": [
        "<a href=\"https://colab.research.google.com/github/DougOliver12/Python-Best-Tricks/blob/master/counter.ipynb\" target=\"_parent\"><img src=\"https://colab.research.google.com/assets/colab-badge.svg\" alt=\"Open In Colab\"/></a>"
      ]
    },
    {
      "cell_type": "code",
      "metadata": {
        "id": "tWIbYmlNe_sd",
        "outputId": "b3f70f42-bdc4-461f-8674-ad7ab59aba89",
        "colab": {
          "base_uri": "https://localhost:8080/"
        }
      },
      "source": [
        "import time, sys\n",
        "def texto():\n",
        "    for i in range(0, 10):\n",
        "        print('Tempo restante: ','i')\n",
        "        time.sleep(1)\n",
        "       \n",
        "# -*- coding: cp1252 -*-\n",
        "def quatro_linhas(): #define a função quatro_linhas sem argumentos\n",
        "    linha_quadrado() #que chamará a função linha_quadrado quatro vezes.\n",
        "    linha_quadrado()\n",
        "    linha_quadrado()\n",
        "    linha_quadrado()\n",
        "    \n",
        "def Linha_quadrado(): #define uma função para desenhar uma linha do quadrado\n",
        "    print( '+','-' *32,'+' )\n",
        "\n",
        "def linha_quadrado(): #define uma função para desenhar uma linha mais simples do quadrado\n",
        "    print ('|', ' ' * 32, '|') \n",
        "\n",
        "def quadrado(): #define a função que formará o quadrado, juntando as linhas     \n",
        "    Linha_quadrado()\n",
        "    quatro_linhas()\n",
        "    texto()\n",
        "    quatro_linhas()\n",
        "    Linha_quadrado()\n",
        "    texto()\n",
        "\n",
        "quadrado() #chama a função que desenha o quadrado"
      ],
      "execution_count": 30,
      "outputs": [
        {
          "output_type": "stream",
          "text": [
            "+ -------------------------------- +\n",
            "|                                  |\n",
            "|                                  |\n",
            "|                                  |\n",
            "|                                  |\n",
            "Tempo restante:  i\n",
            "Tempo restante:  i\n",
            "Tempo restante:  i\n",
            "Tempo restante:  i\n",
            "Tempo restante:  i\n",
            "Tempo restante:  i\n",
            "Tempo restante:  i\n",
            "Tempo restante:  i\n",
            "Tempo restante:  i\n",
            "Tempo restante:  i\n",
            "|                                  |\n",
            "|                                  |\n",
            "|                                  |\n",
            "|                                  |\n",
            "+ -------------------------------- +\n",
            "Tempo restante:  i\n",
            "Tempo restante:  i\n",
            "Tempo restante:  i\n",
            "Tempo restante:  i\n",
            "Tempo restante:  i\n",
            "Tempo restante:  i\n",
            "Tempo restante:  i\n",
            "Tempo restante:  i\n",
            "Tempo restante:  i\n",
            "Tempo restante:  i\n"
          ],
          "name": "stdout"
        }
      ]
    }
  ]
}